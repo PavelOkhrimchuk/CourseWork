{
  "cells": [
    {
      "cell_type": "markdown",
      "id": "9768ff11",
      "metadata": {
        "id": "9768ff11"
      },
      "source": [
        "# Курсовая работа\n",
        "## Выполнил студент группы БФИ2202 Охримчук Павел Александрович\n"
      ]
    },
    {
      "cell_type": "markdown",
      "id": "eb00c26d",
      "metadata": {
        "id": "eb00c26d"
      },
      "source": [
        "**Задание**\n",
        "\n",
        "\n",
        "\n",
        "\n",
        "Написать программу, которая будет считывать данные из CSV файла, содержащего информацию о продажах товаров в магазине.\n",
        "Данные в файле содержатся в следующем формате:\n",
        "| Номер заказа | Дата заказа | Название товара | Категория товара | Количество продаж | Цена за единицу | Общая стоимость |\n",
        "\n",
        "Также необходимо выполнить следующие пункты:\n",
        "\n",
        "Рассчитать общую выручку магазина.\n",
        "Найти товар, который был продан наибольшее количество раз.\n",
        "Найти товар, который принес наибольшую выручку.\n",
        "Составить отчет, содержащий информацию об общей выручке магазина, количестве проданных единиц каждого товар и доле каждого товара в общей выручке. Для решения задач необходимо использовать структуры данных, такие как массивы и хеш-таблицы, а также различные алгоритмы обработки данных, например, сортировку и поиск. Также необходимо учитывать возможные ошибки ввода-вывода и обрабатывать их в соответствии с требованиями."
      ]
    },
    {
      "cell_type": "markdown",
      "source": [
        "***Код программы:***"
      ],
      "metadata": {
        "id": "PrBomVjKH-3B"
      },
      "id": "PrBomVjKH-3B"
    },
    {
      "cell_type": "markdown",
      "id": "ba71ab07",
      "metadata": {
        "id": "ba71ab07"
      },
      "source": [
        "Библиотеки для работы"
      ]
    },
    {
      "cell_type": "code",
      "execution_count": 58,
      "id": "82c75980",
      "metadata": {
        "id": "82c75980"
      },
      "outputs": [],
      "source": [
        "import csv\n",
        "import pandas as pd\n",
        "import matplotlib.pyplot as plt\n",
        "from tabulate import tabulate\n"
      ]
    },
    {
      "cell_type": "markdown",
      "id": "17589d6c",
      "metadata": {
        "id": "17589d6c"
      },
      "source": [
        "Класс для работы со стеком"
      ]
    },
    {
      "cell_type": "code",
      "execution_count": 59,
      "id": "a847fb64",
      "metadata": {
        "id": "a847fb64"
      },
      "outputs": [],
      "source": [
        "class Stack:\n",
        "    def __init__(self):\n",
        "        self.items = []\n",
        "\n",
        "    def is_empty(self):\n",
        "        return self.items == []\n",
        "\n",
        "    def push(self, item):\n",
        "        self.items.append(item)\n",
        "\n",
        "    def pop(self):\n",
        "        if not self.is_empty():\n",
        "            return self.items.pop()\n",
        "        else:\n",
        "            raise IndexError(\"Стек пуст\")"
      ]
    },
    {
      "cell_type": "markdown",
      "id": "7aca602a",
      "metadata": {
        "id": "7aca602a"
      },
      "source": [
        "Класс для работы с хеш-таблицами"
      ]
    },
    {
      "cell_type": "code",
      "source": [
        "class HashTable:\n",
        "    class Entry:\n",
        "        def __init__(self, key, value):\n",
        "            self.key = key\n",
        "            self.value = value\n",
        "            self.next = None\n",
        "\n",
        "    def __init__(self, initial_capacity=10):\n",
        "        self.capacity = initial_capacity\n",
        "        self.size = 0\n",
        "        self.buckets = [None] * self.capacity\n",
        "\n",
        "    def hash_function(self, key):\n",
        "        return hash(key) % self.capacity\n",
        "\n",
        "    def put(self, key, value):\n",
        "        index = self.hash_function(key)\n",
        "        if not self.buckets[index]:\n",
        "            self.buckets[index] = self.Entry(key, value)\n",
        "            self.size += 1\n",
        "        else:\n",
        "            current = self.buckets[index]\n",
        "            while current:\n",
        "                if current.key == key:\n",
        "                    current.value = value\n",
        "                    return\n",
        "                if not current.next:\n",
        "                    current.next = self.Entry(key, value)\n",
        "                    self.size += 1\n",
        "                    return\n",
        "                current = current.next\n",
        "\n",
        "    def get(self, key):\n",
        "        index = self.hash_function(key)\n",
        "        current = self.buckets[index]\n",
        "        while current:\n",
        "            if current.key == key:\n",
        "                return current.value\n",
        "            current = current.next\n",
        "        return None\n",
        "\n",
        "    def resize(self):\n",
        "        new_capacity = self.capacity * 2\n",
        "        new_buckets = [None] * new_capacity\n",
        "        for bucket in self.buckets:\n",
        "            current = bucket\n",
        "            while current:\n",
        "                index = self.hash_function(current.key) % new_capacity\n",
        "                if not new_buckets[index]:\n",
        "                    new_buckets[index] = self.Entry(current.key, current.value)\n",
        "                else:\n",
        "                    temp = new_buckets[index]\n",
        "                    while temp.next:\n",
        "                        temp = temp.next\n",
        "                    temp.next = self.Entry(current.key, current.value)\n",
        "                current = current.next\n",
        "        self.capacity = new_capacity\n",
        "        self.buckets = new_buckets"
      ],
      "metadata": {
        "id": "vk4sfJF5W8Ug"
      },
      "id": "vk4sfJF5W8Ug",
      "execution_count": 60,
      "outputs": []
    },
    {
      "cell_type": "markdown",
      "id": "e4898d78",
      "metadata": {
        "id": "e4898d78"
      },
      "source": [
        "\n",
        "\n",
        "\n",
        "\n",
        "Функция для сортировки слиянием"
      ]
    },
    {
      "cell_type": "code",
      "execution_count": 61,
      "id": "45c0c87f",
      "metadata": {
        "id": "45c0c87f"
      },
      "outputs": [],
      "source": [
        "def merge_sort(arr):\n",
        "    if len(arr) <= 1:\n",
        "        return arr\n",
        "\n",
        "    mid = len(arr) // 2\n",
        "    left_half = arr[:mid]\n",
        "    right_half = arr[mid:]\n",
        "\n",
        "    merge_sort(left_half)\n",
        "    merge_sort(right_half)\n",
        "\n",
        "    left_stack = Stack()\n",
        "    right_stack = Stack()\n",
        "\n",
        "    for item in reversed(left_half):\n",
        "        left_stack.push(item)\n",
        "    for item in reversed(right_half):\n",
        "        right_stack.push(item)\n",
        "\n",
        "    sorted_arr = []\n",
        "    while not left_stack.is_empty() and not right_stack.is_empty():\n",
        "        if left_stack.items[-1] < right_stack.items[-1]:\n",
        "            sorted_arr.append(left_stack.pop())\n",
        "        else:\n",
        "            sorted_arr.append(right_stack.pop())\n",
        "\n",
        "    while not left_stack.is_empty():\n",
        "        sorted_arr.append(left_stack.pop())\n",
        "\n",
        "    while not right_stack.is_empty():\n",
        "        sorted_arr.append(right_stack.pop())\n",
        "\n",
        "    for i in range(len(sorted_arr)):\n",
        "        arr[i] = sorted_arr[i]\n",
        "\n",
        "    return arr"
      ]
    },
    {
      "cell_type": "markdown",
      "id": "d7177870",
      "metadata": {
        "id": "d7177870"
      },
      "source": [
        "Класс для обработки данных о продажах"
      ]
    },
    {
      "cell_type": "code",
      "execution_count": 62,
      "id": "446c947a",
      "metadata": {
        "id": "446c947a"
      },
      "outputs": [],
      "source": [
        "class SalesDataProcessor:\n",
        "    def __init__(self):\n",
        "        self.total_revenue = 0\n",
        "        self.max_sold_quantity = 0\n",
        "        self.top_selling_item = \"\"\n",
        "        self.revenue_array = []\n",
        "        self.sales_quantity = HashTable()\n",
        "        self.sales_revenue = HashTable()\n",
        "\n",
        "    def process_row(self, row):\n",
        "        order_number, order_date, item_name, item_category, quantity_sold, unit_price, total_cost = row\n",
        "        quantity_sold = int(quantity_sold)\n",
        "        total_cost = int(total_cost)\n",
        "\n",
        "        self.total_revenue += total_cost\n",
        "\n",
        "        if quantity_sold > self.max_sold_quantity:\n",
        "            self.max_sold_quantity = quantity_sold\n",
        "            self.top_selling_item = item_name\n",
        "\n",
        "        self.revenue_array.append(total_cost)\n",
        "\n",
        "        existing_quantity = self.sales_quantity.get(item_name)\n",
        "        if existing_quantity is None:\n",
        "            self.sales_quantity.put(item_name, quantity_sold)\n",
        "            self.sales_revenue.put(item_name, total_cost)\n",
        "        else:\n",
        "            self.sales_quantity.put(item_name, existing_quantity + quantity_sold)\n",
        "            self.sales_revenue.put(item_name, self.sales_revenue.get(item_name) + total_cost)\n",
        "\n",
        "    def calculate_statistics(self):\n",
        "        sorted_revenue = merge_sort(self.revenue_array)\n",
        "        max_revenue_item = None\n",
        "        for item_name in self.sales_revenue.buckets:\n",
        "            if item_name is not None:\n",
        "                current = item_name\n",
        "                while current:\n",
        "                    if current.value == sorted_revenue[-1]:\n",
        "                        max_revenue_item = current.key\n",
        "                    current = current.next\n",
        "        return self.total_revenue, self.top_selling_item, max_revenue_item\n",
        "\n",
        "    def print_statistics(self, file_reader):\n",
        "        for row in file_reader:\n",
        "            item_name = row[2]\n",
        "            quantity_sold = self.sales_quantity.get(item_name)\n",
        "            item_revenue = self.sales_revenue.get(item_name)\n",
        "            revenue_share = round(item_revenue / self.total_revenue * 100, 2)\n",
        "            print(f'{item_name}: продано {quantity_sold} единиц, доля в общей выручке составляет {revenue_share}%')"
      ]
    },
    {
      "cell_type": "markdown",
      "source": [
        "Функция для построения графиков"
      ],
      "metadata": {
        "id": "rJ4MvUzcIa-v"
      },
      "id": "rJ4MvUzcIa-v"
    },
    {
      "cell_type": "code",
      "execution_count": 63,
      "id": "2eccdc82",
      "metadata": {
        "id": "2eccdc82"
      },
      "outputs": [],
      "source": [
        "def plot_results(dataset, total_revenue, top_selling_item, max_revenue_item):\n",
        "    dataset['Доля от общей выручки в %'] = (dataset['Общая стоимость'] / total_revenue) * 100\n",
        "    dataset['Доля от общей выручки в %'] = dataset['Доля от общей выручки в %'].round(2)\n",
        "    dataset.index = dataset['Название товара']\n",
        "\n",
        "    plt.figure(figsize=(12, 6))\n",
        "    result = dataset[['Доля от общей выручки в %']]\n",
        "\n",
        "    result.plot(kind='bar', color='red')\n",
        "    plt.xlabel('Название товара', fontsize=12)\n",
        "    plt.ylabel('Доля от общей выручки в %', fontsize=12)\n",
        "    plt.title('Доля каждого товара в общей выручке', fontsize=14)\n",
        "    plt.xticks(rotation=90, fontsize=10)\n",
        "\n",
        "    plt.show()"
      ]
    },
    {
      "cell_type": "markdown",
      "id": "f5fa8d51",
      "metadata": {
        "id": "f5fa8d51"
      },
      "source": [
        "Функция для вывода таблицы в консоль"
      ]
    },
    {
      "cell_type": "code",
      "execution_count": 64,
      "id": "0b4ea20d",
      "metadata": {
        "id": "0b4ea20d"
      },
      "outputs": [],
      "source": [
        "def print_table_to_console(dataset):\n",
        "    table_str = tabulate(dataset, headers='keys', tablefmt='psql', showindex=False)\n",
        "    print(\"\\nТаблица данных:\")\n",
        "    print(table_str)"
      ]
    },
    {
      "cell_type": "markdown",
      "source": [
        "Чтение и обработка данных о продажах"
      ],
      "metadata": {
        "id": "tfDBU-wp8OaS"
      },
      "id": "tfDBU-wp8OaS"
    },
    {
      "cell_type": "code",
      "execution_count": 65,
      "id": "c47c7849",
      "metadata": {
        "id": "c47c7849",
        "colab": {
          "base_uri": "https://localhost:8080/"
        },
        "outputId": "47745d12-e24e-416e-9ad5-5f7bb22f665f"
      },
      "outputs": [
        {
          "output_type": "stream",
          "name": "stdout",
          "text": [
            "\n",
            "Суммарная выручка магазина: 151225 рублей\n",
            "Товар с наибольшим количеством продаж: Яблоки\n",
            "Товар с максимальной выручкой: Мясо говяжье\n",
            "\n",
            "Яблоки: продано 500 единиц, доля в общей выручке составляет 16.53%\n",
            "Мандарины: продано 300 единиц, доля в общей выручке составляет 7.94%\n",
            "Бананы: продано 200 единиц, доля в общей выручке составляет 3.97%\n",
            "Молоко: продано 150 единиц, доля в общей выручке составляет 5.95%\n",
            "Хлеб: продано 100 единиц, доля в общей выручке составляет 1.32%\n",
            "Масло оливковое: продано 50 единиц, доля в общей выручке составляет 3.31%\n",
            "Сыр: продано 100 единиц, доля в общей выручке составляет 5.29%\n",
            "Курица: продано 75 единиц, доля в общей выручке составляет 7.44%\n",
            "Рис: продано 25 единиц, доля в общей выручке составляет 0.83%\n",
            "Макароны: продано 500 единиц, доля в общей выручке составляет 9.92%\n",
            "Мясо говяжье: продано 200 единиц, доля в общей выручке составляет 26.45%\n",
            "Картофель: продано 100 единиц, доля в общей выручке составляет 1.32%\n",
            "Морковь: продано 150 единиц, доля в общей выручке составляет 1.49%\n",
            "Яйца: продано 50 единиц, доля в общей выручке составляет 0.23%\n",
            "Свекла: продано 75 единиц, доля в общей выручке составляет 1.24%\n",
            "Огурцы: продано 100 единиц, доля в общей выручке составляет 0.66%\n",
            "Персики: продано 25 единиц, доля в общей выручке составляет 1.16%\n",
            "Мороженое: продано 50 единиц, доля в общей выручке составляет 1.65%\n",
            "Чай: продано 200 единиц, доля в общей выручке составляет 1.98%\n",
            "Кофе: продано 100 единиц, доля в общей выручке составляет 1.32%\n",
            "\n"
          ]
        }
      ],
      "source": [
        "processor = SalesDataProcessor()\n",
        "\n",
        "\n",
        "try:\n",
        "    dataset = pd.read_csv('data.csv', sep=';')\n",
        "    with open(\"data.csv\", encoding='utf-8') as file:\n",
        "        file_reader = csv.reader(file, delimiter=\";\")\n",
        "        next(file_reader)\n",
        "        for row in file_reader:\n",
        "            processor.process_row(row)\n",
        "\n",
        "    total_revenue, top_selling_item, max_revenue_item = processor.calculate_statistics()\n",
        "\n",
        "    print()\n",
        "    print(f'Суммарная выручка магазина: {total_revenue} рублей')\n",
        "    print(f'Товар с наибольшим количеством продаж: {top_selling_item}')\n",
        "    print(f'Товар с максимальной выручкой: {max_revenue_item}')\n",
        "    print()\n",
        "\n",
        "    # Вывод статистики\n",
        "    with open(\"data.csv\", encoding='utf-8') as file:\n",
        "        file_reader = csv.reader(file, delimiter=\";\")\n",
        "        next(file_reader)  # Пропуск заголовка\n",
        "        processor.print_statistics(file_reader)\n",
        "    print()\n",
        "\n",
        "except FileNotFoundError:\n",
        "    print('Файл не найден')"
      ]
    },
    {
      "cell_type": "markdown",
      "source": [
        "Вывод таблицы в консоль"
      ],
      "metadata": {
        "id": "u_Fdp-Wh8Xao"
      },
      "id": "u_Fdp-Wh8Xao"
    },
    {
      "cell_type": "code",
      "execution_count": 66,
      "id": "4b364cd9",
      "metadata": {
        "id": "4b364cd9",
        "colab": {
          "base_uri": "https://localhost:8080/"
        },
        "outputId": "64b82f42-e292-45b4-b8e0-ca842c4096a4"
      },
      "outputs": [
        {
          "output_type": "stream",
          "name": "stdout",
          "text": [
            "\n",
            "Таблица данных:\n",
            "+----------------+---------------+-------------------+-----------------------+---------------------+-------------------+-------------------+\n",
            "|   Номер заказа | Дата заказа   | Название товара   | Категория товара      |   Количество продаж |   Цена за единицу |   Общая стоимость |\n",
            "|----------------+---------------+-------------------+-----------------------+---------------------+-------------------+-------------------|\n",
            "|              1 | 01.02.2022    | Яблоки            | Фрукты                |                 500 |                50 |             25000 |\n",
            "|              2 | 02.04.2022    | Мандарины         | Фрукты                |                 300 |                40 |             12000 |\n",
            "|              3 | 03.01.2022    | Бананы            | Фрукты                |                 200 |                30 |              6000 |\n",
            "|              4 | 04.02.2022    | Молоко            | Молочные продукты     |                 150 |                60 |              9000 |\n",
            "|              5 | 05.05.2022    | Хлеб              | Хлебобулочные изделия |                 100 |                20 |              2000 |\n",
            "|              6 | 06.03.2022    | Масло оливковое   | Масла                 |                  50 |               100 |              5000 |\n",
            "|              7 | 07.06.2022    | Сыр               | Молочные продукты     |                 100 |                80 |              8000 |\n",
            "|              8 | 08.05.2022    | Курица            | Мясо и птица          |                  75 |               150 |             11250 |\n",
            "|              9 | 09.04.2022    | Рис               | Крупы                 |                  25 |                50 |              1250 |\n",
            "|             10 | 10.02.2022    | Макароны          | Макаронные изделия    |                 500 |                30 |             15000 |\n",
            "|             11 | 01.01.2022    | Мясо говяжье      | Мясо и птица          |                 200 |               200 |             40000 |\n",
            "|             12 | 02.02.2022    | Картофель         | Овощи                 |                 100 |                20 |              2000 |\n",
            "|             13 | 03.10.2022    | Морковь           | Овощи                 |                 150 |                15 |              2250 |\n",
            "|             14 | 04.11.2022    | Яйца              | Яйца                  |                  50 |                 7 |               350 |\n",
            "|             15 | 05.12.2022    | Свекла            | Овощи                 |                  75 |                25 |              1875 |\n",
            "|             16 | 06.10.2021    | Огурцы            | Овощи                 |                 100 |                10 |              1000 |\n",
            "|             17 | 07.09.2022    | Персики           | Фрукты                |                  25 |                70 |              1750 |\n",
            "|             18 | 08.07.2021    | Мороженое         | Мороженое             |                  50 |                50 |              2500 |\n",
            "|             19 | 09.07.2022    | Чай               | Напитки               |                 200 |                15 |              3000 |\n",
            "|             20 | 10.02.2001    | Кофе              | Напитки               |                 100 |                20 |              2000 |\n",
            "+----------------+---------------+-------------------+-----------------------+---------------------+-------------------+-------------------+\n"
          ]
        }
      ],
      "source": [
        "\n",
        "print_table_to_console(dataset)"
      ]
    },
    {
      "cell_type": "markdown",
      "source": [
        "Построение графиков для анализа данных"
      ],
      "metadata": {
        "id": "F1CYLXR1IvBy"
      },
      "id": "F1CYLXR1IvBy"
    },
    {
      "cell_type": "code",
      "source": [
        "plot_results(dataset, total_revenue, top_selling_item, max_revenue_item)"
      ],
      "metadata": {
        "id": "sdeRsp3g9kp8",
        "colab": {
          "base_uri": "https://localhost:8080/",
          "height": 608
        },
        "outputId": "f11847be-4d65-4f9d-da8a-371bb7abdee5"
      },
      "id": "sdeRsp3g9kp8",
      "execution_count": 67,
      "outputs": [
        {
          "output_type": "display_data",
          "data": {
            "text/plain": [
              "<Figure size 1200x600 with 0 Axes>"
            ]
          },
          "metadata": {}
        },
        {
          "output_type": "display_data",
          "data": {
            "text/plain": [
              "<Figure size 640x480 with 1 Axes>"
            ],
            "image/png": "[encoded data removed]"
          },
          "metadata": {}
        }
      ]
    }
  ],
  "metadata": {
    "kernelspec": {
      "display_name": "Python 3 (ipykernel)",
      "language": "python",
      "name": "python3"
    },
    "language_info": {
      "codemirror_mode": {
        "name": "ipython",
        "version": 3
      },
      "file_extension": ".py",
      "mimetype": "text/x-python",
      "name": "python",
      "nbconvert_exporter": "python",
      "pygments_lexer": "ipython3",
      "version": "3.9.13"
    },
    "colab": {
      "provenance": []
    }
  },
  "nbformat": 4,
  "nbformat_minor": 5
}